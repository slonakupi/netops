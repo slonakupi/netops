{
 "cells": [
  {
   "cell_type": "code",
   "execution_count": null,
   "metadata": {},
   "outputs": [],
   "source": [
    "#import functions \n",
    "\n",
    "from netops_modules import *"
   ]
  },
  {
   "cell_type": "code",
   "execution_count": null,
   "metadata": {},
   "outputs": [],
   "source": [
    "#read data about devices from the file\n",
    "FILENAME = 'hosts'\n",
    "\n",
    "DEVICES = pd.read_excel('xlsx\\\\{}.xlsx'.format(FILENAME), dtype=str )\n",
    "\n",
    "#DEVICES['Exec'] = 'X'\n",
    "#DEVICES['CMD_template'] = 'kibana.template'\n",
    "#DEVICES['DATAFILE'] = '{}_if.xlsx'.format(FILENAME)\n",
    "\n",
    "filter = DEVICES['Exec'].notnull() \n",
    "\n",
    "DEVICES_RUN=DEVICES[filter]\n",
    "\n",
    "DEVICES_RUN[HOSTNAME_COLUMN] = DEVICES_RUN[HOSTNAME_COLUMN].replace({pd.np.nan: 'Unknown'}) #change empty HOSTNAME >> 'Unknown'\n",
    "#DEVICES_RUN[CMDCFG_COLUMN] = None #clear CMGCFG column\n",
    "DEVICES_RUN.head()"
   ]
  },
  {
   "cell_type": "markdown",
   "metadata": {},
   "source": [
    "############################################################################################ INVENTORY ##########################################################################################################"
   ]
  },
  {
   "cell_type": "code",
   "execution_count": null,
   "metadata": {},
   "outputs": [],
   "source": [
    "#get running configs and write them into files \\\\cfg\\base\\\n",
    "#function format conn_threads(function, index-column, step(number of threads), DataFrame with device data, attempts=)\n",
    "\n",
    "conn_threads(get_config_th, 'IP_DEV',100, **DEVICES_RUN, attempts=2)"
   ]
  },
  {
   "cell_type": "code",
   "execution_count": null,
   "metadata": {},
   "outputs": [],
   "source": [
    "#get MAC tables from the devices and parse them\n",
    "conn_threads(getmacinfo, 'IP_DEV', step = 50, **DEVICES_RUN, attempts=1)"
   ]
  },
  {
   "cell_type": "markdown",
   "metadata": {
    "slideshow": {
     "slide_type": "-"
    }
   },
   "source": [
    "########################################################################################### Information Processing Block ##########################################################################################################"
   ]
  },
  {
   "cell_type": "code",
   "execution_count": null,
   "metadata": {},
   "outputs": [],
   "source": [
    "# Create Excel files from MAC tables\n",
    "\n",
    "maclist_to_excel(DEVICES_RUN)"
   ]
  },
  {
   "cell_type": "code",
   "execution_count": null,
   "metadata": {},
   "outputs": [],
   "source": [
    "#create dataframe table using data from the files\n",
    "DEVICES = filedata_to_pd(DEVICES)\n",
    "\n",
    "# Inventory Parser - model, SN etc..\n",
    "DEVICES_PARSED = inventory_parser(DEVICES)\n",
    "#DEVICES_PARSED.head()\n",
    "\n",
    "DEVICES_RUN = DEVICES_PARSED\n",
    "\n",
    "DEVICES_RUN.head()"
   ]
  },
  {
   "cell_type": "code",
   "execution_count": null,
   "metadata": {},
   "outputs": [],
   "source": [
    "#write data into xls file without \"config\" column\n",
    "\n",
    "DEVICES_PARSED.loc[:,DEVICES_PARSED.columns != 'CFG'].to_excel('xlsx\\\\{}.xlsx'.format(FILENAME), encoding='cp1251', index=False) #save to ls file"
   ]
  },
  {
   "cell_type": "markdown",
   "metadata": {},
   "source": [
    "#####################################"
   ]
  },
  {
   "cell_type": "markdown",
   "metadata": {},
   "source": [
    "####################################"
   ]
  },
  {
   "cell_type": "code",
   "execution_count": null,
   "metadata": {},
   "outputs": [],
   "source": [
    "#find matches MAC >> Interface using Excel tables\n",
    "\n",
    "get_if(DEVICES_RUN)"
   ]
  },
  {
   "cell_type": "markdown",
   "metadata": {},
   "source": [
    "####################################"
   ]
  },
  {
   "cell_type": "code",
   "execution_count": null,
   "metadata": {},
   "outputs": [],
   "source": [
    "#find interfaces from configs using \"parent\" criteria\n",
    "\n",
    "DEVICES_RUN_IF = find_if(DEVICES_RUN,'^interface')"
   ]
  },
  {
   "cell_type": "code",
   "execution_count": null,
   "metadata": {},
   "outputs": [],
   "source": [
    "#add information about MAC address count on the interfaces\n",
    "\n",
    "DEVICES_RUN_IF = update_if_info(DEVICES_RUN_IF)\n",
    "\n",
    "#Save interface information into files\n",
    "\n",
    "DEVICES_RUN_IF.to_excel('xlsx\\\\{0}_if.xlsx'.format(FILENAME), encoding='cp1251', index=False) #save to xls file"
   ]
  },
  {
   "cell_type": "code",
   "execution_count": null,
   "metadata": {},
   "outputs": [],
   "source": [
    "#Read Interface data from the file\n",
    "\n",
    "DEVICES_RUN_IF = pd.read_excel('xlsx\\\\{0}_if.xlsx'.format(FILENAME), dtype=str)\n",
    "\n",
    "DEVICES_RUN_IF.head()"
   ]
  },
  {
   "cell_type": "code",
   "execution_count": null,
   "metadata": {},
   "outputs": [],
   "source": [
    "#Save information into files\n",
    "\n",
    "DEVICES_RUN_IF.to_excel('xlsx\\\\{0}_if.xlsx'.format(FILENAME), encoding='cp1251', index=False) #save to xls file\n",
    "\n",
    "DEVICES_RUN_IF_VLA = DEVICES_RUN_IF.drop_duplicates(subset=['IP_DEV','Access VLAN'], keep = 'first')\n",
    "DEVICES_RUN_IF_VLA = DEVICES_RUN_IF_VLA[DEVICES_RUN_IF_VLA['Access VLAN'].notnull()]\n",
    "DEVICES_RUN_IF_VLA.to_excel('xlsx\\\\{0}_vla.xlsx'.format(FILENAME), encoding='cp1251', index=False) #save to xls file"
   ]
  },
  {
   "cell_type": "code",
   "execution_count": null,
   "metadata": {},
   "outputs": [],
   "source": [
    "DEVICES_RUN_IF[DEVICES_RUN['IP_ORIG'] == DEVICES_RUN_IF['IP'] ]"
   ]
  },
  {
   "cell_type": "code",
   "execution_count": null,
   "metadata": {},
   "outputs": [],
   "source": [
    "DEVICES_RUN_IF[DEVICES_RUN_IF['IP_DEV'] == DEVICES_RUN_IF['IP'] or DEVICES_RUN_IF['IP_ORIG'] == DEVICES_RUN_IF['IP'] ].to_excel('xlsx\\\\{0}_mgmt.xlsx'.format(FILENAME), encoding='cp1251', index=False) #save to xls file"
   ]
  },
  {
   "cell_type": "markdown",
   "metadata": {},
   "source": [
    "####################################"
   ]
  },
  {
   "cell_type": "code",
   "execution_count": null,
   "metadata": {},
   "outputs": [],
   "source": [
    "#find \"strange\" ports - min thershold <= IF MAC count < max threshold  \n",
    "\n",
    "STRANGE_PORTS_PD = find_strange_ports(DEVICES_RUN,2,90,2)"
   ]
  },
  {
   "cell_type": "raw",
   "metadata": {},
   "source": [
    "########################################################################################## БЛОК CMD RENDER ##########################################################################################################"
   ]
  },
  {
   "cell_type": "code",
   "execution_count": null,
   "metadata": {},
   "outputs": [],
   "source": [
    "#Generate commands to send to the devices\n",
    "\n",
    "DEVICES_RUN = form_cmd_pd(DEVICES_RUN,FILENAME)"
   ]
  },
  {
   "cell_type": "markdown",
   "metadata": {},
   "source": [
    "########################################################################################## БЛОК Отправка команд на устройства ##########################################################################################################"
   ]
  },
  {
   "cell_type": "code",
   "execution_count": null,
   "metadata": {},
   "outputs": [],
   "source": [
    "# Exec == X - means that command will be send to the device\n",
    "#send commands to the devices\n",
    "#function format conn_threads(function, index-column, step(number of threads), DataFrame with device data, attempts=)\n",
    "\n",
    "conn_threads(sendcmd, 'IP_DEV',50, **DEVICES_RUN)"
   ]
  },
  {
   "cell_type": "code",
   "execution_count": null,
   "metadata": {},
   "outputs": [],
   "source": []
  },
  {
   "cell_type": "code",
   "execution_count": null,
   "metadata": {},
   "outputs": [],
   "source": [
    "#Get results and write them to the file, delete temporary ones\n",
    "\n",
    "result_to_pd(DEVICES_RUN,FILENAME)"
   ]
  },
  {
   "cell_type": "markdown",
   "metadata": {},
   "source": [
    "#################DEBUG SECTION###########################"
   ]
  }
 ],
 "metadata": {
  "kernelspec": {
   "display_name": "Python 3",
   "language": "python",
   "name": "python3"
  },
  "language_info": {
   "codemirror_mode": {
    "name": "ipython",
    "version": 3
   },
   "file_extension": ".py",
   "mimetype": "text/x-python",
   "name": "python",
   "nbconvert_exporter": "python",
   "pygments_lexer": "ipython3",
   "version": "3.7.3"
  }
 },
 "nbformat": 4,
 "nbformat_minor": 2
}
